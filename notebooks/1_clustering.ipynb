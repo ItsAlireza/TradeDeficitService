{
 "cells": [
  {
   "cell_type": "code",
   "execution_count": 7,
   "metadata": {
    "collapsed": true
   },
   "outputs": [],
   "source": [
    "import pandas as pd\n",
    "import numpy as np\n",
    "from sklearn.cluster import KMeans\n",
    "from scipy.cluster.hierarchy import dendrogram, linkage\n",
    "import matplotlib.pyplot as plt\n",
    "from sklearn.cluster import AgglomerativeClustering\n",
    "from scipy.cluster.hierarchy import fcluster\n",
    "from sklearn.preprocessing import StandardScaler\n",
    "from sklearn.linear_model import LinearRegression\n",
    "import pickle"
   ]
  },
  {
   "cell_type": "code",
   "execution_count": 8,
   "outputs": [
    {
     "data": {
      "text/plain": "   year  trade_deficit  covid_dummy     gdp_canada      gdp_us  \\\n0  2003    -712.331648            0  314686.928702  15162760.0   \n1  2004    -851.752241            0  352045.696940  15670880.0   \n2  2005    -953.674088            0  381695.652174  16136734.0   \n3  2006    -888.751877            0  390398.022893  16561866.0   \n4  2007    -781.766393            0  458809.799421  16915191.0   \n\n   nominal_exchange_rate  deflator_canada  deflator_usa  cpi_canada  cpi_usa  \\\n0               0.761731        79.575453        77.639   81.538056  185.500   \n1               0.820412        82.280018        79.939   83.276271  191.700   \n2               0.860956        85.601587        82.571   85.014485  198.100   \n3               0.867152        86.896102        84.770   86.436661  203.100   \n4               0.997904        90.129249        86.993   88.490914  211.445   \n\n   ...  global_econ_policy_uncertainty  us_econ_policy_uncertainty   m2_us  \\\n0  ...                       70.478538                    90.34359  6067.3   \n1  ...                       64.967186                    66.53288  6418.3   \n2  ...                       60.622293                    70.02676  6681.9   \n3  ...                       56.872640                    51.03904  7071.6   \n4  ...                       95.535370                   116.99090  7471.6   \n\n   m2_canada  interest_rate_canada  ppi_canada  ppi_us  interest_rate_us  \\\n0     567295              4.729048   80.021339   139.5              0.98   \n1     603920              4.320476   83.115497   150.2              2.16   \n2     642923              4.041000   85.356095   163.0              4.16   \n3     678248              3.966316   88.236863   165.6              5.24   \n4     739943              4.015789   87.810083   178.6              4.24   \n\n    fdi_us  migration_fear_us  \n0  1658275          88.290131  \n1  1830644          95.930206  \n2  2007151          90.102013  \n3  2255955         116.371735  \n4  2463600         112.055168  \n\n[5 rows x 22 columns]",
      "text/html": "<div>\n<style scoped>\n    .dataframe tbody tr th:only-of-type {\n        vertical-align: middle;\n    }\n\n    .dataframe tbody tr th {\n        vertical-align: top;\n    }\n\n    .dataframe thead th {\n        text-align: right;\n    }\n</style>\n<table border=\"1\" class=\"dataframe\">\n  <thead>\n    <tr style=\"text-align: right;\">\n      <th></th>\n      <th>year</th>\n      <th>trade_deficit</th>\n      <th>covid_dummy</th>\n      <th>gdp_canada</th>\n      <th>gdp_us</th>\n      <th>nominal_exchange_rate</th>\n      <th>deflator_canada</th>\n      <th>deflator_usa</th>\n      <th>cpi_canada</th>\n      <th>cpi_usa</th>\n      <th>...</th>\n      <th>global_econ_policy_uncertainty</th>\n      <th>us_econ_policy_uncertainty</th>\n      <th>m2_us</th>\n      <th>m2_canada</th>\n      <th>interest_rate_canada</th>\n      <th>ppi_canada</th>\n      <th>ppi_us</th>\n      <th>interest_rate_us</th>\n      <th>fdi_us</th>\n      <th>migration_fear_us</th>\n    </tr>\n  </thead>\n  <tbody>\n    <tr>\n      <th>0</th>\n      <td>2003</td>\n      <td>-712.331648</td>\n      <td>0</td>\n      <td>314686.928702</td>\n      <td>15162760.0</td>\n      <td>0.761731</td>\n      <td>79.575453</td>\n      <td>77.639</td>\n      <td>81.538056</td>\n      <td>185.500</td>\n      <td>...</td>\n      <td>70.478538</td>\n      <td>90.34359</td>\n      <td>6067.3</td>\n      <td>567295</td>\n      <td>4.729048</td>\n      <td>80.021339</td>\n      <td>139.5</td>\n      <td>0.98</td>\n      <td>1658275</td>\n      <td>88.290131</td>\n    </tr>\n    <tr>\n      <th>1</th>\n      <td>2004</td>\n      <td>-851.752241</td>\n      <td>0</td>\n      <td>352045.696940</td>\n      <td>15670880.0</td>\n      <td>0.820412</td>\n      <td>82.280018</td>\n      <td>79.939</td>\n      <td>83.276271</td>\n      <td>191.700</td>\n      <td>...</td>\n      <td>64.967186</td>\n      <td>66.53288</td>\n      <td>6418.3</td>\n      <td>603920</td>\n      <td>4.320476</td>\n      <td>83.115497</td>\n      <td>150.2</td>\n      <td>2.16</td>\n      <td>1830644</td>\n      <td>95.930206</td>\n    </tr>\n    <tr>\n      <th>2</th>\n      <td>2005</td>\n      <td>-953.674088</td>\n      <td>0</td>\n      <td>381695.652174</td>\n      <td>16136734.0</td>\n      <td>0.860956</td>\n      <td>85.601587</td>\n      <td>82.571</td>\n      <td>85.014485</td>\n      <td>198.100</td>\n      <td>...</td>\n      <td>60.622293</td>\n      <td>70.02676</td>\n      <td>6681.9</td>\n      <td>642923</td>\n      <td>4.041000</td>\n      <td>85.356095</td>\n      <td>163.0</td>\n      <td>4.16</td>\n      <td>2007151</td>\n      <td>90.102013</td>\n    </tr>\n    <tr>\n      <th>3</th>\n      <td>2006</td>\n      <td>-888.751877</td>\n      <td>0</td>\n      <td>390398.022893</td>\n      <td>16561866.0</td>\n      <td>0.867152</td>\n      <td>86.896102</td>\n      <td>84.770</td>\n      <td>86.436661</td>\n      <td>203.100</td>\n      <td>...</td>\n      <td>56.872640</td>\n      <td>51.03904</td>\n      <td>7071.6</td>\n      <td>678248</td>\n      <td>3.966316</td>\n      <td>88.236863</td>\n      <td>165.6</td>\n      <td>5.24</td>\n      <td>2255955</td>\n      <td>116.371735</td>\n    </tr>\n    <tr>\n      <th>4</th>\n      <td>2007</td>\n      <td>-781.766393</td>\n      <td>0</td>\n      <td>458809.799421</td>\n      <td>16915191.0</td>\n      <td>0.997904</td>\n      <td>90.129249</td>\n      <td>86.993</td>\n      <td>88.490914</td>\n      <td>211.445</td>\n      <td>...</td>\n      <td>95.535370</td>\n      <td>116.99090</td>\n      <td>7471.6</td>\n      <td>739943</td>\n      <td>4.015789</td>\n      <td>87.810083</td>\n      <td>178.6</td>\n      <td>4.24</td>\n      <td>2463600</td>\n      <td>112.055168</td>\n    </tr>\n  </tbody>\n</table>\n<p>5 rows × 22 columns</p>\n</div>"
     },
     "execution_count": 8,
     "metadata": {},
     "output_type": "execute_result"
    }
   ],
   "source": [
    "# loading the dataset\n",
    "\n",
    "file_path = r\"../data.xlsx\"\n",
    "\n",
    "data = pd.read_excel(file_path)\n",
    "data.head()"
   ],
   "metadata": {
    "collapsed": false,
    "pycharm": {
     "name": "#%%\n"
    }
   }
  },
  {
   "cell_type": "code",
   "execution_count": 10,
   "outputs": [],
   "source": [
    "# dropping the Y column\n",
    "\n",
    "subset_df = data.set_index('year')\n",
    "subset_df.drop(['trade_deficit'], axis=1, inplace=True)"
   ],
   "metadata": {
    "collapsed": false,
    "pycharm": {
     "name": "#%%\n"
    }
   }
  },
  {
   "cell_type": "code",
   "execution_count": 12,
   "outputs": [
    {
     "data": {
      "text/plain": "<Figure size 1000x500 with 1 Axes>",
      "image/png": "[encoded data removed]"
     },
     "metadata": {},
     "output_type": "display_data"
    }
   ],
   "source": [
    "# Assuming you have loaded your dataset into a pandas DataFrame named \"data\"\n",
    "# Drop any non-numeric columns\n",
    "numeric_data = subset_df.select_dtypes(include=[np.number]).dropna()\n",
    "\n",
    "# Standardize the data\n",
    "scaler = StandardScaler()\n",
    "data_scaled = scaler.fit_transform(numeric_data)\n",
    "\n",
    "# K-means clustering\n",
    "kmeans = KMeans(n_clusters=3, random_state=42)\n",
    "kmeans.fit(data_scaled)\n",
    "\n",
    "# Hierarchical clustering\n",
    "Z = linkage(data_scaled, method='ward')\n",
    "\n",
    "# Plotting the dendrogram\n",
    "plt.figure(figsize=(10, 5))\n",
    "plt.title('Hierarchical Clustering Dendrogram')\n",
    "plt.xlabel('sample index')\n",
    "plt.ylabel('distance')\n",
    "dendrogram(Z)\n",
    "plt.show()\n",
    "\n",
    "# Assigning clusters using hierarchical clustering\n",
    "max_d = 8\n",
    "hierarchical_clusters = fcluster(Z, max_d, criterion='distance')"
   ],
   "metadata": {
    "collapsed": false,
    "pycharm": {
     "name": "#%%\n"
    }
   }
  },
  {
   "cell_type": "code",
   "execution_count": 13,
   "outputs": [
    {
     "name": "stdout",
     "output_type": "stream",
     "text": [
      "Ward linkage: [2 2 2 2 2 2 2 2 1 1 1 1 1 1 0 0 0 0 0 0]\n",
      "Complete linkage: [0 0 0 0 0 0 0 0 0 0 2 2 2 2 1 1 1 1 1 1]\n",
      "Average linkage: [1 1 1 1 1 1 1 1 1 1 2 2 2 2 0 0 0 0 0 0]\n",
      "Single linkage: [2 2 2 2 2 2 2 2 2 2 2 2 2 2 0 0 0 0 1 1]\n"
     ]
    }
   ],
   "source": [
    "# Hierarchical clustering with different linkage criteria\n",
    "model_ward = AgglomerativeClustering(n_clusters=3, metric='euclidean', linkage='ward')\n",
    "clusters_ward = model_ward.fit_predict(data)\n",
    "\n",
    "model_complete = AgglomerativeClustering(n_clusters=3, metric='euclidean', linkage='complete')\n",
    "clusters_complete = model_complete.fit_predict(data)\n",
    "\n",
    "model_average = AgglomerativeClustering(n_clusters=3, metric='euclidean', linkage='average')\n",
    "clusters_average = model_average.fit_predict(data)\n",
    "\n",
    "model_single = AgglomerativeClustering(n_clusters=3, metric='euclidean', linkage='single')\n",
    "clusters_single = model_single.fit_predict(data)\n",
    "\n",
    "print(\"Ward linkage:\", clusters_ward)\n",
    "print(\"Complete linkage:\", clusters_complete)\n",
    "print(\"Average linkage:\", clusters_average)\n",
    "print(\"Single linkage:\", clusters_single)"
   ],
   "metadata": {
    "collapsed": false,
    "pycharm": {
     "name": "#%%\n"
    }
   }
  },
  {
   "cell_type": "markdown",
   "source": [
    "clustered by the time trend"
   ],
   "metadata": {
    "collapsed": false,
    "pycharm": {
     "name": "#%% md\n"
    }
   }
  },
  {
   "cell_type": "code",
   "execution_count": 15,
   "outputs": [],
   "source": [
    "def detrend_variable(variable):\n",
    "    model = LinearRegression()\n",
    "    X = pd.to_numeric(variable.index).values.reshape(-1, 1)\n",
    "    model.fit(X, variable)\n",
    "    detrended_variable = variable - model.predict(X)\n",
    "    return detrended_variable, model\n",
    "\n",
    "# Apply detrend_variable function to each column\n",
    "detrended_and_models = subset_df.apply(detrend_variable)\n",
    "\n",
    "# Separate detrended variables and models\n",
    "detrended_data = detrended_and_models.apply(lambda x: x[0])"
   ],
   "metadata": {
    "collapsed": false,
    "pycharm": {
     "name": "#%%\n"
    }
   }
  },
  {
   "cell_type": "code",
   "execution_count": null,
   "outputs": [],
   "source": [
    "# creating the models dictionary for saving\n",
    "models = {}\n",
    "\n",
    "for column_name, (detrended, model) in detrended_and_models.items():\n",
    "    models[column_name] = model"
   ],
   "metadata": {
    "collapsed": false,
    "pycharm": {
     "name": "#%%\n",
     "is_executing": true
    }
   }
  },
  {
   "cell_type": "code",
   "execution_count": 19,
   "outputs": [
    {
     "name": "stdout",
     "output_type": "stream",
     "text": [
      "Ward linkage: [2 2 2 2 2 2 2 2 1 1 1 1 1 1 0 0 0 0 0 0]\n",
      "Complete linkage: [0 0 0 0 0 2 1 1 1 1 1 1 1 1 2 2 0 2 0 0]\n",
      "Average linkage: [0 0 0 0 0 2 1 1 1 1 1 1 1 1 2 2 0 2 0 0]\n",
      "Single linkage: [0 0 0 0 0 2 1 1 1 1 1 1 1 1 2 2 0 2 0 0]\n"
     ]
    }
   ],
   "source": [
    "# Hierarchical clustering with different linkage criteria\n",
    "model_ward = AgglomerativeClustering(n_clusters=3, metric='euclidean', linkage='ward')\n",
    "\n",
    "model_complete = AgglomerativeClustering(n_clusters=3, metric='euclidean', linkage='complete')\n",
    "clusters_complete = model_complete.fit_predict(detrended_data)\n",
    "\n",
    "model_average = AgglomerativeClustering(n_clusters=3, metric='euclidean', linkage='average')\n",
    "clusters_average = model_average.fit_predict(detrended_data)\n",
    "cluster_model = model_average.fit(detrended_data)\n",
    "\n",
    "\n",
    "model_single = AgglomerativeClustering(n_clusters=3, metric='euclidean', linkage='single')\n",
    "clusters_single = model_single.fit_predict(detrended_data)\n",
    "\n",
    "print(\"Ward linkage:\", clusters_ward)\n",
    "print(\"Complete linkage:\", clusters_complete)\n",
    "print(\"Average linkage:\", clusters_average)\n",
    "print(\"Single linkage:\", clusters_single)"
   ],
   "metadata": {
    "collapsed": false,
    "pycharm": {
     "name": "#%%\n"
    }
   }
  },
  {
   "cell_type": "code",
   "execution_count": 20,
   "outputs": [],
   "source": [
    "labels = cluster_model.labels_\n",
    "cluster_centers = np.zeros((cluster_model.n_clusters, detrended_data.shape[1]))\n",
    "for i in range(cluster_model.n_clusters):\n",
    "    cluster_centers[i] = detrended_data[labels == i].mean(axis=0)"
   ],
   "metadata": {
    "collapsed": false,
    "pycharm": {
     "name": "#%%\n"
    }
   }
  },
  {
   "cell_type": "code",
   "execution_count": 22,
   "outputs": [],
   "source": [
    "data['ward_cluster_trend_corrected'] = clusters_ward"
   ],
   "metadata": {
    "collapsed": false,
    "pycharm": {
     "name": "#%%\n"
    }
   }
  },
  {
   "cell_type": "code",
   "execution_count": 23,
   "outputs": [],
   "source": [
    "save_path = r\"./data/1_end.xlsx\"\n",
    "dictionary_save_path = r\"./models/detrend_model_dict.pkl\"\n",
    "clustrer_centers_save_path = r\"./models/clustrer_model.pkl\""
   ],
   "metadata": {
    "collapsed": false,
    "pycharm": {
     "name": "#%%\n"
    }
   }
  },
  {
   "cell_type": "code",
   "execution_count": 24,
   "outputs": [],
   "source": [
    "data.to_excel(save_path, index=False)"
   ],
   "metadata": {
    "collapsed": false,
    "pycharm": {
     "name": "#%%\n"
    }
   }
  },
  {
   "cell_type": "code",
   "execution_count": 25,
   "outputs": [],
   "source": [
    "with open(dictionary_save_path, 'wb') as f:\n",
    "    pickle.dump(models, f)"
   ],
   "metadata": {
    "collapsed": false,
    "pycharm": {
     "name": "#%%\n"
    }
   }
  },
  {
   "cell_type": "code",
   "execution_count": 26,
   "outputs": [],
   "source": [
    "with open(clustrer_centers_save_path, 'wb') as f:\n",
    "    pickle.dump(cluster_centers.T, f)"
   ],
   "metadata": {
    "collapsed": false,
    "pycharm": {
     "name": "#%%\n"
    }
   }
  },
  {
   "cell_type": "code",
   "execution_count": null,
   "outputs": [
    {
     "ename": "NameError",
     "evalue": "name 'AgglomerativeClustering' is not defined",
     "output_type": "error",
     "traceback": [
      "\u001B[1;31m---------------------------------------------------------------------------\u001B[0m",
      "\u001B[1;31mNameError\u001B[0m                                 Traceback (most recent call last)",
      "Cell \u001B[1;32mIn[2], line 1\u001B[0m\n\u001B[1;32m----> 1\u001B[0m model_average \u001B[38;5;241m=\u001B[39m \u001B[43mAgglomerativeClustering\u001B[49m(n_clusters\u001B[38;5;241m=\u001B[39m\u001B[38;5;241m3\u001B[39m, metric\u001B[38;5;241m=\u001B[39m\u001B[38;5;124m'\u001B[39m\u001B[38;5;124meuclidean\u001B[39m\u001B[38;5;124m'\u001B[39m, linkage\u001B[38;5;241m=\u001B[39m\u001B[38;5;124m'\u001B[39m\u001B[38;5;124maverage\u001B[39m\u001B[38;5;124m'\u001B[39m)\n\u001B[0;32m      2\u001B[0m clusters_average \u001B[38;5;241m=\u001B[39m model_average\u001B[38;5;241m.\u001B[39mfit_predict(detrended_data)\n\u001B[0;32m      3\u001B[0m cluster_model \u001B[38;5;241m=\u001B[39m model_average\u001B[38;5;241m.\u001B[39mfit(detrended_data)\n",
      "\u001B[1;31mNameError\u001B[0m: name 'AgglomerativeClustering' is not defined"
     ]
    }
   ],
   "source": [
    "# testing the clustering predict logic\n",
    "\n",
    "model_average = AgglomerativeClustering(n_clusters=3, metric='euclidean', linkage='average')\n",
    "clusters_average = model_average.fit_predict(detrended_data)\n",
    "cluster_model = model_average.fit(detrended_data)\n",
    "\n",
    "labels = cluster_model.labels_\n",
    "cluster_centers = np.zeros((cluster_model.n_clusters, detrended_data.shape[1]))\n",
    "for i in range(cluster_model.n_clusters):\n",
    "    cluster_centers[i] = detrended_data[labels == i].mean(axis=0)\n",
    "models['cluster_centers'] = cluster_centers\n",
    "\n",
    "\n",
    "for index, row in detrended_data.iterrows():\n",
    "    new_point = row.values.reshape(1, -1)\n",
    "    distances = [np.linalg.norm(new_point - center) for center in cluster_centers]\n",
    "    predicted_cluster = np.argmin(distances)\n",
    "\n",
    "    print(\"Predicted cluster label for the new point:\", predicted_cluster)"
   ],
   "metadata": {
    "collapsed": false,
    "pycharm": {
     "name": "#%%\n"
    }
   }
  }
 ],
 "metadata": {
  "kernelspec": {
   "display_name": "Python 3",
   "language": "python",
   "name": "python3"
  },
  "language_info": {
   "codemirror_mode": {
    "name": "ipython",
    "version": 2
   },
   "file_extension": ".py",
   "mimetype": "text/x-python",
   "name": "python",
   "nbconvert_exporter": "python",
   "pygments_lexer": "ipython2",
   "version": "2.7.6"
  }
 },
 "nbformat": 4,
 "nbformat_minor": 0
}