{
 "cells": [
  {
   "cell_type": "code",
   "execution_count": 1,
   "metadata": {
    "collapsed": true
   },
   "outputs": [],
   "source": [
    "import pandas as pd\n",
    "from sklearn.decomposition import PCA\n",
    "from sklearn.preprocessing import StandardScaler\n",
    "import pickle"
   ]
  },
  {
   "cell_type": "code",
   "execution_count": 2,
   "outputs": [
    {
     "data": {
      "text/plain": "   year  trade_deficit  covid_dummy     gdp_canada    gdp_us  \\\n0  2003    -712.331648            0  314686.928702  15162760   \n1  2004    -851.752241            0  352045.696940  15670880   \n2  2005    -953.674088            0  381695.652174  16136734   \n3  2006    -888.751877            0  390398.022893  16561866   \n4  2007    -781.766393            0  458809.799421  16915191   \n\n   nominal_exchange_rate  deflator_canada  deflator_usa  cpi_canada  cpi_usa  \\\n0               0.761731        79.575453        77.639   81.538056  185.500   \n1               0.820412        82.280018        79.939   83.276271  191.700   \n2               0.860956        85.601587        82.571   85.014485  198.100   \n3               0.867152        86.896102        84.770   86.436661  203.100   \n4               0.997904        90.129249        86.993   88.490914  211.445   \n\n   ...  us_econ_policy_uncertainty   m2_us  m2_canada  interest_rate_canada  \\\n0  ...                    90.34359  6067.3     567295              4.729048   \n1  ...                    66.53288  6418.3     603920              4.320476   \n2  ...                    70.02676  6681.9     642923              4.041000   \n3  ...                    51.03904  7071.6     678248              3.966316   \n4  ...                   116.99090  7471.6     739943              4.015789   \n\n   ppi_canada  ppi_us  interest_rate_us   fdi_us  migration_fear_us  \\\n0   80.021339   139.5              0.98  1658275          88.290131   \n1   83.115497   150.2              2.16  1830644          95.930206   \n2   85.356095   163.0              4.16  2007151          90.102013   \n3   88.236863   165.6              5.24  2255955         116.371735   \n4   87.810083   178.6              4.24  2463600         112.055168   \n\n   ward_cluster_trend_corrected  \n0                             2  \n1                             2  \n2                             2  \n3                             2  \n4                             2  \n\n[5 rows x 23 columns]",
      "text/html": "<div>\n<style scoped>\n    .dataframe tbody tr th:only-of-type {\n        vertical-align: middle;\n    }\n\n    .dataframe tbody tr th {\n        vertical-align: top;\n    }\n\n    .dataframe thead th {\n        text-align: right;\n    }\n</style>\n<table border=\"1\" class=\"dataframe\">\n  <thead>\n    <tr style=\"text-align: right;\">\n      <th></th>\n      <th>year</th>\n      <th>trade_deficit</th>\n      <th>covid_dummy</th>\n      <th>gdp_canada</th>\n      <th>gdp_us</th>\n      <th>nominal_exchange_rate</th>\n      <th>deflator_canada</th>\n      <th>deflator_usa</th>\n      <th>cpi_canada</th>\n      <th>cpi_usa</th>\n      <th>...</th>\n      <th>us_econ_policy_uncertainty</th>\n      <th>m2_us</th>\n      <th>m2_canada</th>\n      <th>interest_rate_canada</th>\n      <th>ppi_canada</th>\n      <th>ppi_us</th>\n      <th>interest_rate_us</th>\n      <th>fdi_us</th>\n      <th>migration_fear_us</th>\n      <th>ward_cluster_trend_corrected</th>\n    </tr>\n  </thead>\n  <tbody>\n    <tr>\n      <th>0</th>\n      <td>2003</td>\n      <td>-712.331648</td>\n      <td>0</td>\n      <td>314686.928702</td>\n      <td>15162760</td>\n      <td>0.761731</td>\n      <td>79.575453</td>\n      <td>77.639</td>\n      <td>81.538056</td>\n      <td>185.500</td>\n      <td>...</td>\n      <td>90.34359</td>\n      <td>6067.3</td>\n      <td>567295</td>\n      <td>4.729048</td>\n      <td>80.021339</td>\n      <td>139.5</td>\n      <td>0.98</td>\n      <td>1658275</td>\n      <td>88.290131</td>\n      <td>2</td>\n    </tr>\n    <tr>\n      <th>1</th>\n      <td>2004</td>\n      <td>-851.752241</td>\n      <td>0</td>\n      <td>352045.696940</td>\n      <td>15670880</td>\n      <td>0.820412</td>\n      <td>82.280018</td>\n      <td>79.939</td>\n      <td>83.276271</td>\n      <td>191.700</td>\n      <td>...</td>\n      <td>66.53288</td>\n      <td>6418.3</td>\n      <td>603920</td>\n      <td>4.320476</td>\n      <td>83.115497</td>\n      <td>150.2</td>\n      <td>2.16</td>\n      <td>1830644</td>\n      <td>95.930206</td>\n      <td>2</td>\n    </tr>\n    <tr>\n      <th>2</th>\n      <td>2005</td>\n      <td>-953.674088</td>\n      <td>0</td>\n      <td>381695.652174</td>\n      <td>16136734</td>\n      <td>0.860956</td>\n      <td>85.601587</td>\n      <td>82.571</td>\n      <td>85.014485</td>\n      <td>198.100</td>\n      <td>...</td>\n      <td>70.02676</td>\n      <td>6681.9</td>\n      <td>642923</td>\n      <td>4.041000</td>\n      <td>85.356095</td>\n      <td>163.0</td>\n      <td>4.16</td>\n      <td>2007151</td>\n      <td>90.102013</td>\n      <td>2</td>\n    </tr>\n    <tr>\n      <th>3</th>\n      <td>2006</td>\n      <td>-888.751877</td>\n      <td>0</td>\n      <td>390398.022893</td>\n      <td>16561866</td>\n      <td>0.867152</td>\n      <td>86.896102</td>\n      <td>84.770</td>\n      <td>86.436661</td>\n      <td>203.100</td>\n      <td>...</td>\n      <td>51.03904</td>\n      <td>7071.6</td>\n      <td>678248</td>\n      <td>3.966316</td>\n      <td>88.236863</td>\n      <td>165.6</td>\n      <td>5.24</td>\n      <td>2255955</td>\n      <td>116.371735</td>\n      <td>2</td>\n    </tr>\n    <tr>\n      <th>4</th>\n      <td>2007</td>\n      <td>-781.766393</td>\n      <td>0</td>\n      <td>458809.799421</td>\n      <td>16915191</td>\n      <td>0.997904</td>\n      <td>90.129249</td>\n      <td>86.993</td>\n      <td>88.490914</td>\n      <td>211.445</td>\n      <td>...</td>\n      <td>116.99090</td>\n      <td>7471.6</td>\n      <td>739943</td>\n      <td>4.015789</td>\n      <td>87.810083</td>\n      <td>178.6</td>\n      <td>4.24</td>\n      <td>2463600</td>\n      <td>112.055168</td>\n      <td>2</td>\n    </tr>\n  </tbody>\n</table>\n<p>5 rows × 23 columns</p>\n</div>"
     },
     "execution_count": 2,
     "metadata": {},
     "output_type": "execute_result"
    }
   ],
   "source": [
    "# loading the dataset\n",
    "\n",
    "load_path = r\"./data/1_end.xlsx\"\n",
    "\n",
    "original_data = pd.read_excel(load_path)\n",
    "original_data.head()"
   ],
   "metadata": {
    "collapsed": false,
    "pycharm": {
     "name": "#%%\n"
    }
   }
  },
  {
   "cell_type": "code",
   "execution_count": 3,
   "outputs": [],
   "source": [
    "data = original_data.drop(['year', 'trade_deficit'], axis=1)"
   ],
   "metadata": {
    "collapsed": false,
    "pycharm": {
     "name": "#%%\n"
    }
   }
  },
  {
   "cell_type": "code",
   "execution_count": 5,
   "outputs": [],
   "source": [
    "# Assuming 'data' is your DataFrame\n",
    "# Standardize the data\n",
    "scaler = StandardScaler()\n",
    "data_scaled = scaler.fit_transform(data)\n",
    "\n",
    "# Create a PCA object\n",
    "pca = PCA()\n",
    "\n",
    "# Fit the PCA instance\n",
    "pca.fit(data_scaled)\n",
    "\n",
    "# Transform the data\n",
    "data_pca = pca.transform(data_scaled)\n",
    "\n",
    "# Create a DataFrame from the transformed data\n",
    "data_pca_df = pd.DataFrame(data_pca, columns=[f\"PC{i+1}\" for i in range(data_pca.shape[1])])"
   ],
   "metadata": {
    "collapsed": false,
    "pycharm": {
     "name": "#%%\n"
    }
   }
  },
  {
   "cell_type": "code",
   "execution_count": 6,
   "outputs": [
    {
     "name": "stdout",
     "output_type": "stream",
     "text": [
      "Explained Variance Ratio: [6.57976041e-01 1.62734155e-01 8.17197766e-02 4.03590687e-02\n",
      " 2.58069080e-02 1.44523086e-02 7.15603612e-03 3.72406351e-03\n",
      " 2.35994448e-03 2.22846090e-03 8.41437949e-04 2.88379610e-04\n",
      " 1.64574153e-04 1.06760154e-04 3.87167770e-05 2.63253547e-05\n",
      " 1.06381291e-05 5.79631683e-06 6.08203601e-07 2.05018757e-34]\n",
      "Cumulative Explained Variance Ratio: [0.65797604 0.8207102  0.90242997 0.94278904 0.96859595 0.98304826\n",
      " 0.99020429 0.99392836 0.9962883  0.99851676 0.9993582  0.99964658\n",
      " 0.99981116 0.99991792 0.99995663 0.99998296 0.9999936  0.99999939\n",
      " 1.         1.        ]\n"
     ]
    }
   ],
   "source": [
    "# Explained variance ratio\n",
    "explained_variance_ratio = pca.explained_variance_ratio_\n",
    "\n",
    "print(\"Explained Variance Ratio:\", explained_variance_ratio)\n",
    "print(\"Cumulative Explained Variance Ratio:\", explained_variance_ratio.cumsum())"
   ],
   "metadata": {
    "collapsed": false,
    "pycharm": {
     "name": "#%%\n"
    }
   }
  },
  {
   "cell_type": "code",
   "execution_count": 7,
   "outputs": [
    {
     "name": "stderr",
     "output_type": "stream",
     "text": [
      "C:\\Users\\Mahsa systeM\\AppData\\Local\\Temp\\ipykernel_12172\\3227263297.py:2: SettingWithCopyWarning: \n",
      "A value is trying to be set on a copy of a slice from a DataFrame.\n",
      "Try using .loc[row_indexer,col_indexer] = value instead\n",
      "\n",
      "See the caveats in the documentation: https://pandas.pydata.org/pandas-docs/stable/user_guide/indexing.html#returning-a-view-versus-a-copy\n",
      "  dim_reduced_data['year'] = original_data['year']\n",
      "C:\\Users\\Mahsa systeM\\AppData\\Local\\Temp\\ipykernel_12172\\3227263297.py:3: SettingWithCopyWarning: \n",
      "A value is trying to be set on a copy of a slice from a DataFrame.\n",
      "Try using .loc[row_indexer,col_indexer] = value instead\n",
      "\n",
      "See the caveats in the documentation: https://pandas.pydata.org/pandas-docs/stable/user_guide/indexing.html#returning-a-view-versus-a-copy\n",
      "  dim_reduced_data['trade_deficit'] = original_data['trade_deficit']\n"
     ]
    }
   ],
   "source": [
    "dim_reduced_data = data_pca_df.iloc[:, :8]\n",
    "dim_reduced_data['year'] = original_data['year']\n",
    "dim_reduced_data['trade_deficit'] = original_data['trade_deficit']"
   ],
   "metadata": {
    "collapsed": false,
    "pycharm": {
     "name": "#%%\n"
    }
   }
  },
  {
   "cell_type": "code",
   "execution_count": 9,
   "outputs": [],
   "source": [
    "save_path = r\"./data/2_end.xlsx\"\n",
    "dim_reduced_data.to_excel(save_path, index=False)"
   ],
   "metadata": {
    "collapsed": false,
    "pycharm": {
     "name": "#%%\n"
    }
   }
  },
  {
   "cell_type": "code",
   "execution_count": 10,
   "outputs": [],
   "source": [
    "PCA_model = r\"./models/PCA.pkl\"\n",
    "scaler_model = r\"./models/scaler.pkl\"\n",
    "\n",
    "with open(PCA_model, 'wb') as f:\n",
    "    pickle.dump(pca, f)\n",
    "\n",
    "with open(scaler_model, 'wb') as f:\n",
    "    pickle.dump(scaler, f)"
   ],
   "metadata": {
    "collapsed": false,
    "pycharm": {
     "name": "#%%\n"
    }
   }
  }
 ],
 "metadata": {
  "kernelspec": {
   "display_name": "Python 3",
   "language": "python",
   "name": "python3"
  },
  "language_info": {
   "codemirror_mode": {
    "name": "ipython",
    "version": 2
   },
   "file_extension": ".py",
   "mimetype": "text/x-python",
   "name": "python",
   "nbconvert_exporter": "python",
   "pygments_lexer": "ipython2",
   "version": "2.7.6"
  }
 },
 "nbformat": 4,
 "nbformat_minor": 0
}