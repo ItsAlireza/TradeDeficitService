{
 "cells": [
  {
   "cell_type": "code",
   "execution_count": 143,
   "metadata": {
    "collapsed": true
   },
   "outputs": [],
   "source": [
    "import logging\n",
    "\n",
    "import numpy as np\n",
    "import pandas as pd\n",
    "import mlflow\n",
    "\n",
    "from sklearn.linear_model import LinearRegression\n",
    "from sklearn.kernel_ridge import KernelRidge\n",
    "from sklearn.ensemble import RandomForestRegressor\n",
    "from sklearn.gaussian_process import GaussianProcessRegressor\n",
    "from sklearn.gaussian_process.kernels import RBF\n",
    "\n",
    "from sklearn.preprocessing import OneHotEncoder\n",
    "from sklearn.model_selection import train_test_split\n",
    "from sklearn.metrics import r2_score"
   ]
  },
  {
   "cell_type": "code",
   "execution_count": 122,
   "outputs": [
    {
     "data": {
      "text/plain": "        PC1       PC2       PC3       PC4       PC5       PC6       PC7  \\\n0 -5.089087 -2.509118 -1.371926 -1.105728 -0.669043 -0.034845 -0.445481   \n1 -4.640566 -1.906677 -0.178390 -0.480414 -0.222851 -0.104150 -0.188241   \n2 -4.124425 -1.509576  1.154137  0.039131 -0.433086 -0.315800  0.329608   \n3 -3.653797 -1.937473  1.841681  0.579203 -0.116135 -0.054812  0.475929   \n4 -3.104540  0.498026  2.235057  1.444249 -0.316111 -0.007681 -0.312718   \n\n        PC8  year  trade_deficit  ward_cluster  \n0 -0.103239  2003    -712.331648             0  \n1 -0.024866  2004    -851.752241             0  \n2  0.168554  2005    -953.674088             0  \n3  0.117863  2006    -888.751877             0  \n4 -0.250548  2007    -781.766393             0  ",
      "text/html": "<div>\n<style scoped>\n    .dataframe tbody tr th:only-of-type {\n        vertical-align: middle;\n    }\n\n    .dataframe tbody tr th {\n        vertical-align: top;\n    }\n\n    .dataframe thead th {\n        text-align: right;\n    }\n</style>\n<table border=\"1\" class=\"dataframe\">\n  <thead>\n    <tr style=\"text-align: right;\">\n      <th></th>\n      <th>PC1</th>\n      <th>PC2</th>\n      <th>PC3</th>\n      <th>PC4</th>\n      <th>PC5</th>\n      <th>PC6</th>\n      <th>PC7</th>\n      <th>PC8</th>\n      <th>year</th>\n      <th>trade_deficit</th>\n      <th>ward_cluster</th>\n    </tr>\n  </thead>\n  <tbody>\n    <tr>\n      <th>0</th>\n      <td>-5.089087</td>\n      <td>-2.509118</td>\n      <td>-1.371926</td>\n      <td>-1.105728</td>\n      <td>-0.669043</td>\n      <td>-0.034845</td>\n      <td>-0.445481</td>\n      <td>-0.103239</td>\n      <td>2003</td>\n      <td>-712.331648</td>\n      <td>0</td>\n    </tr>\n    <tr>\n      <th>1</th>\n      <td>-4.640566</td>\n      <td>-1.906677</td>\n      <td>-0.178390</td>\n      <td>-0.480414</td>\n      <td>-0.222851</td>\n      <td>-0.104150</td>\n      <td>-0.188241</td>\n      <td>-0.024866</td>\n      <td>2004</td>\n      <td>-851.752241</td>\n      <td>0</td>\n    </tr>\n    <tr>\n      <th>2</th>\n      <td>-4.124425</td>\n      <td>-1.509576</td>\n      <td>1.154137</td>\n      <td>0.039131</td>\n      <td>-0.433086</td>\n      <td>-0.315800</td>\n      <td>0.329608</td>\n      <td>0.168554</td>\n      <td>2005</td>\n      <td>-953.674088</td>\n      <td>0</td>\n    </tr>\n    <tr>\n      <th>3</th>\n      <td>-3.653797</td>\n      <td>-1.937473</td>\n      <td>1.841681</td>\n      <td>0.579203</td>\n      <td>-0.116135</td>\n      <td>-0.054812</td>\n      <td>0.475929</td>\n      <td>0.117863</td>\n      <td>2006</td>\n      <td>-888.751877</td>\n      <td>0</td>\n    </tr>\n    <tr>\n      <th>4</th>\n      <td>-3.104540</td>\n      <td>0.498026</td>\n      <td>2.235057</td>\n      <td>1.444249</td>\n      <td>-0.316111</td>\n      <td>-0.007681</td>\n      <td>-0.312718</td>\n      <td>-0.250548</td>\n      <td>2007</td>\n      <td>-781.766393</td>\n      <td>0</td>\n    </tr>\n  </tbody>\n</table>\n</div>"
     },
     "execution_count": 122,
     "metadata": {},
     "output_type": "execute_result"
    }
   ],
   "source": [
    "# loading the dataset\n",
    "\n",
    "load_path = r\"../../files/data/2_end.xlsx\"\n",
    "\n",
    "original_data = pd.read_excel(load_path)\n",
    "original_data.head()"
   ],
   "metadata": {
    "collapsed": false,
    "pycharm": {
     "name": "#%%\n"
    }
   }
  },
  {
   "cell_type": "code",
   "execution_count": 138,
   "outputs": [
    {
     "data": {
      "text/plain": "<Experiment: artifact_location='mlflow-artifacts:/652246872552117148', creation_time=1719418203058, experiment_id='652246872552117148', last_update_time=1719418203058, lifecycle_stage='active', name='trade-deficit-service', tags={'stage': 'inference', 'version': 'v1'}>"
     },
     "execution_count": 138,
     "metadata": {},
     "output_type": "execute_result"
    }
   ],
   "source": [
    "logger = logging.getLogger(\"mlflow\")\n",
    "logger.setLevel(logging.WARNING)\n",
    "\n",
    "experiment_name = 'trade-deficit-service'\n",
    "a = mlflow.get_experiment_by_name(experiment_name)\n",
    "if not mlflow.get_experiment_by_name(experiment_name):\n",
    "    mlflow.create_experiment(experiment_name, tags={'stage': 'inference', 'version': 'v1'})\n",
    "\n",
    "mlflow.set_tracking_uri('http://127.0.0.1:8080')\n",
    "mlflow.set_experiment(experiment_name)"
   ],
   "metadata": {
    "collapsed": false,
    "pycharm": {
     "name": "#%%\n"
    }
   }
  },
  {
   "cell_type": "code",
   "execution_count": 123,
   "outputs": [],
   "source": [
    "y = original_data['trade_deficit']\n",
    "cluster_data = original_data['ward_cluster']\n",
    "X = original_data.drop(['trade_deficit', 'year'], axis=1)"
   ],
   "metadata": {
    "collapsed": false,
    "pycharm": {
     "name": "#%%\n"
    }
   }
  },
  {
   "cell_type": "code",
   "execution_count": 144,
   "outputs": [],
   "source": [
    "def evaluate_model(model_object, n_repeats, test_size=0.25, model_parameters={}):\n",
    "    r2_scores = []\n",
    "    encoder = OneHotEncoder(drop='first')\n",
    "\n",
    "    with mlflow.start_run(run_name=model_object.__name__, nested=True) as child_run:\n",
    "\n",
    "        for i in range(n_repeats):\n",
    "            X_train, X_val, y_train, y_val = train_test_split(X, y, test_size=test_size, stratify=X['ward_cluster'], random_state=i)\n",
    "\n",
    "            X_train_clusters_encoded = encoder.fit_transform(X_train[['ward_cluster']])\n",
    "            X_val_clusters_encoded = encoder.transform(X_val[['ward_cluster']])\n",
    "\n",
    "            X_train_clusters_encoded = pd.DataFrame(X_train_clusters_encoded.toarray(), columns=encoder.get_feature_names_out(['ward_cluster']), index=X_train.index)\n",
    "            X_val_clusters_encoded = pd.DataFrame(X_val_clusters_encoded.toarray(), columns=encoder.get_feature_names_out(['ward_cluster']), index=X_val.index)\n",
    "\n",
    "            X_train = pd.concat([X_train.drop(columns=['ward_cluster']), X_train_clusters_encoded], axis=1)\n",
    "            X_val = pd.concat([X_val.drop(columns=['ward_cluster']), X_val_clusters_encoded], axis=1)\n",
    "\n",
    "            clf = model_object(**model_parameters)\n",
    "            clf.fit(X_train, y_train)\n",
    "\n",
    "            yhat_val = clf.predict(X_val)\n",
    "\n",
    "            r2_val = r2_score(y_val, yhat_val)\n",
    "            r2_scores.append(r2_val)\n",
    "\n",
    "        mean_r2 = np.mean(r2_scores)\n",
    "\n",
    "        mlflow.log_params(model_parameters)\n",
    "        mlflow.log_metric(\"Root mean square error\", mean_r2)\n",
    "\n",
    "    return mean_r2"
   ],
   "metadata": {
    "collapsed": false,
    "pycharm": {
     "name": "#%%\n"
    }
   }
  },
  {
   "cell_type": "code",
   "execution_count": 145,
   "outputs": [
    {
     "name": "stdout",
     "output_type": "stream",
     "text": [
      "0.8857086830140422\n",
      "0.8290169994184273\n",
      "0.5836547864448605\n",
      "0.5025909254671204\n",
      "0.8205849063313202\n"
     ]
    }
   ],
   "source": [
    "with mlflow.start_run(run_name=\"sklearn-models\"):\n",
    "    print(evaluate_model(LinearRegression, n_repeats=4, model_parameters={}))\n",
    "    print(evaluate_model(model_object=KernelRidge, n_repeats=4, model_parameters={'alpha': 0.05, 'kernel': 'rbf'}))\n",
    "    print(evaluate_model(model_object=KernelRidge, n_repeats=4, model_parameters={'alpha': 0.7, 'kernel': 'poly', 'degree': 2}))\n",
    "    print(evaluate_model(model_object=RandomForestRegressor, n_repeats=4, model_parameters={'n_estimators': 100, 'random_state': 42}))\n",
    "    print(evaluate_model(model_object=GaussianProcessRegressor, n_repeats=4, model_parameters={\n",
    "                             'kernel': RBF(length_scale=5.0, length_scale_bounds=(1e-1, 1e2)), 'alpha': 0.2, 'n_restarts_optimizer': 5}))"
   ],
   "metadata": {
    "collapsed": false,
    "pycharm": {
     "name": "#%%\n"
    }
   }
  }
 ],
 "metadata": {
  "kernelspec": {
   "display_name": "Python 3",
   "language": "python",
   "name": "python3"
  },
  "language_info": {
   "codemirror_mode": {
    "name": "ipython",
    "version": 2
   },
   "file_extension": ".py",
   "mimetype": "text/x-python",
   "name": "python",
   "nbconvert_exporter": "python",
   "pygments_lexer": "ipython2",
   "version": "2.7.6"
  }
 },
 "nbformat": 4,
 "nbformat_minor": 0
}